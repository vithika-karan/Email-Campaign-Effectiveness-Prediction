{
  "nbformat": 4,
  "nbformat_minor": 0,
  "metadata": {
    "colab": {
      "name": "Email Campaign Effectiveness Prediction - Vithika Karan.ipynb",
      "provenance": [],
      "mount_file_id": "1tRVTGFyi8H7TK4I7TLgrBbapO6r_vQeg",
      "authorship_tag": "ABX9TyMK+p5iQwbf/9p92cao4Ecz",
      "include_colab_link": true
    },
    "kernelspec": {
      "name": "python3",
      "display_name": "Python 3"
    },
    "language_info": {
      "name": "python"
    }
  },
  "cells": [
    {
      "cell_type": "markdown",
      "metadata": {
        "id": "view-in-github",
        "colab_type": "text"
      },
      "source": [
        "<a href=\"https://colab.research.google.com/github/vithika-karan/Email-Marketing-Effectiveness-Prediction/blob/main/Email_Campaign_Effectiveness_Prediction_Vithika_Karan.ipynb\" target=\"_parent\"><img src=\"https://colab.research.google.com/assets/colab-badge.svg\" alt=\"Open In Colab\"/></a>"
      ]
    },
    {
      "cell_type": "markdown",
      "metadata": {
        "id": "tI9MU5bGAK9o"
      },
      "source": [
        "#**Project Title : Email Campaign Effectiveness Prediction**\n"
      ]
    },
    {
      "cell_type": "markdown",
      "metadata": {
        "id": "Z7gflv1ABF5k"
      },
      "source": [
        "##**Problem Description**\n",
        "\n",
        "Most of the small to medium business owners are making effective use of Gmail-based\n",
        "Email marketing Strategies for offline targeting of converting their prospective customers into\n",
        "leads so that they stay with them in Business.\n",
        "The main objective is to create a machine learning model to characterize the mail and track\n",
        "the mail that is ignored; read; acknowledged by the reader.\n",
        "Data columns are self-explanatory."
      ]
    },
    {
      "cell_type": "markdown",
      "metadata": {
        "id": "7E-Lakt9wQHp"
      },
      "source": [
        "##Introduction:\n",
        "Email Marketing can be defined as a marketing technique in which businesses stay connected with their customers through emails, making them aware about their new products, updates, important notices related to the products they are using.\n",
        "\n",
        "Most importantly, email marketing allows businesses to build relationships with leads, customers and past customers. It's a way to communicate directly to the customers in their inbox, at a time that is convenient for them. With the right messaging tone and strategies, emails are one of the most important marketing channels.\n",
        "\n",
        "We all subscribe to many different kinds of businesses through emails because it's required to do so, sometimes to get digital receipts of the things we bought or to get digital information about the business to stay updated. But many of times we do not tend to read an email due to a number of reasons - to name a few would be no proper structure, too many images, too many links inside the mail, complex vocabulary used or simply too long emails.\n",
        "\n",
        "In this problem statement, we will be trying to create machine learning models that characterize and predict whether the mail is ignored, read or acknowledged by the reader. In addition to this, we will be trying to analyze and find all the features that are important for an email to not get ignored.\n",
        "\n",
        "So let's begin!"
      ]
    },
    {
      "cell_type": "code",
      "metadata": {
        "id": "qvbSdTsBAJ5L"
      },
      "source": [
        "#Importing important libraries and modules\n",
        "#for data reading and manipulation\n",
        "import pandas as pd\n",
        "import numpy as np\n",
        "\n",
        "#for data visualization\n",
        "import matplotlib as mpl\n",
        "import matplotlib.pyplot as plt\n",
        "%matplotlib inline\n",
        "import seaborn as sns\n",
        "plt.rcParams.update({'figure.figsize':(7,4),'figure.dpi':100})\n",
        "\n",
        "#to ignore warnings\n",
        "import warnings    \n",
        "warnings.filterwarnings('ignore')"
      ],
      "execution_count": 1,
      "outputs": []
    },
    {
      "cell_type": "code",
      "metadata": {
        "id": "pfua0nkq5UKk"
      },
      "source": [
        "#reading the csv dataset\n",
        "df_orig = pd.read_csv(\"/content/drive/MyDrive/ALMABETTER/CAPSTONE PROJECTS/Email Campaign Effectiveness Prediction - Vithika Karan/Copy of data_email_campaign.csv\")"
      ],
      "execution_count": 2,
      "outputs": []
    },
    {
      "cell_type": "code",
      "metadata": {
        "colab": {
          "base_uri": "https://localhost:8080/",
          "height": 226
        },
        "id": "FN4CFAXq5tco",
        "outputId": "60848936-11b0-46ff-ee14-421ee0522068"
      },
      "source": [
        "#first look of our dataset\n",
        "df_orig.head()"
      ],
      "execution_count": 3,
      "outputs": [
        {
          "output_type": "execute_result",
          "data": {
            "text/html": [
              "<div>\n",
              "<style scoped>\n",
              "    .dataframe tbody tr th:only-of-type {\n",
              "        vertical-align: middle;\n",
              "    }\n",
              "\n",
              "    .dataframe tbody tr th {\n",
              "        vertical-align: top;\n",
              "    }\n",
              "\n",
              "    .dataframe thead th {\n",
              "        text-align: right;\n",
              "    }\n",
              "</style>\n",
              "<table border=\"1\" class=\"dataframe\">\n",
              "  <thead>\n",
              "    <tr style=\"text-align: right;\">\n",
              "      <th></th>\n",
              "      <th>Email_ID</th>\n",
              "      <th>Email_Type</th>\n",
              "      <th>Subject_Hotness_Score</th>\n",
              "      <th>Email_Source_Type</th>\n",
              "      <th>Customer_Location</th>\n",
              "      <th>Email_Campaign_Type</th>\n",
              "      <th>Total_Past_Communications</th>\n",
              "      <th>Time_Email_sent_Category</th>\n",
              "      <th>Word_Count</th>\n",
              "      <th>Total_Links</th>\n",
              "      <th>Total_Images</th>\n",
              "      <th>Email_Status</th>\n",
              "    </tr>\n",
              "  </thead>\n",
              "  <tbody>\n",
              "    <tr>\n",
              "      <th>0</th>\n",
              "      <td>EMA00081000034500</td>\n",
              "      <td>1</td>\n",
              "      <td>2.2</td>\n",
              "      <td>2</td>\n",
              "      <td>E</td>\n",
              "      <td>2</td>\n",
              "      <td>33.0</td>\n",
              "      <td>1</td>\n",
              "      <td>440</td>\n",
              "      <td>8.0</td>\n",
              "      <td>0.0</td>\n",
              "      <td>0</td>\n",
              "    </tr>\n",
              "    <tr>\n",
              "      <th>1</th>\n",
              "      <td>EMA00081000045360</td>\n",
              "      <td>2</td>\n",
              "      <td>2.1</td>\n",
              "      <td>1</td>\n",
              "      <td>NaN</td>\n",
              "      <td>2</td>\n",
              "      <td>15.0</td>\n",
              "      <td>2</td>\n",
              "      <td>504</td>\n",
              "      <td>5.0</td>\n",
              "      <td>0.0</td>\n",
              "      <td>0</td>\n",
              "    </tr>\n",
              "    <tr>\n",
              "      <th>2</th>\n",
              "      <td>EMA00081000066290</td>\n",
              "      <td>2</td>\n",
              "      <td>0.1</td>\n",
              "      <td>1</td>\n",
              "      <td>B</td>\n",
              "      <td>3</td>\n",
              "      <td>36.0</td>\n",
              "      <td>2</td>\n",
              "      <td>962</td>\n",
              "      <td>5.0</td>\n",
              "      <td>0.0</td>\n",
              "      <td>1</td>\n",
              "    </tr>\n",
              "    <tr>\n",
              "      <th>3</th>\n",
              "      <td>EMA00081000076560</td>\n",
              "      <td>1</td>\n",
              "      <td>3.0</td>\n",
              "      <td>2</td>\n",
              "      <td>E</td>\n",
              "      <td>2</td>\n",
              "      <td>25.0</td>\n",
              "      <td>2</td>\n",
              "      <td>610</td>\n",
              "      <td>16.0</td>\n",
              "      <td>0.0</td>\n",
              "      <td>0</td>\n",
              "    </tr>\n",
              "    <tr>\n",
              "      <th>4</th>\n",
              "      <td>EMA00081000109720</td>\n",
              "      <td>1</td>\n",
              "      <td>0.0</td>\n",
              "      <td>2</td>\n",
              "      <td>C</td>\n",
              "      <td>3</td>\n",
              "      <td>18.0</td>\n",
              "      <td>2</td>\n",
              "      <td>947</td>\n",
              "      <td>4.0</td>\n",
              "      <td>0.0</td>\n",
              "      <td>0</td>\n",
              "    </tr>\n",
              "  </tbody>\n",
              "</table>\n",
              "</div>"
            ],
            "text/plain": [
              "            Email_ID  Email_Type  ...  Total_Images  Email_Status\n",
              "0  EMA00081000034500           1  ...           0.0             0\n",
              "1  EMA00081000045360           2  ...           0.0             0\n",
              "2  EMA00081000066290           2  ...           0.0             1\n",
              "3  EMA00081000076560           1  ...           0.0             0\n",
              "4  EMA00081000109720           1  ...           0.0             0\n",
              "\n",
              "[5 rows x 12 columns]"
            ]
          },
          "metadata": {},
          "execution_count": 3
        }
      ]
    },
    {
      "cell_type": "code",
      "metadata": {
        "id": "osQgwdzd6Ct7",
        "colab": {
          "base_uri": "https://localhost:8080/"
        },
        "outputId": "3dd86d8b-eb54-4bac-9f78-1f7f1616b305"
      },
      "source": [
        "#basic info about our data\n",
        "df_orig.info()"
      ],
      "execution_count": 4,
      "outputs": [
        {
          "output_type": "stream",
          "name": "stdout",
          "text": [
            "<class 'pandas.core.frame.DataFrame'>\n",
            "RangeIndex: 68353 entries, 0 to 68352\n",
            "Data columns (total 12 columns):\n",
            " #   Column                     Non-Null Count  Dtype  \n",
            "---  ------                     --------------  -----  \n",
            " 0   Email_ID                   68353 non-null  object \n",
            " 1   Email_Type                 68353 non-null  int64  \n",
            " 2   Subject_Hotness_Score      68353 non-null  float64\n",
            " 3   Email_Source_Type          68353 non-null  int64  \n",
            " 4   Customer_Location          56758 non-null  object \n",
            " 5   Email_Campaign_Type        68353 non-null  int64  \n",
            " 6   Total_Past_Communications  61528 non-null  float64\n",
            " 7   Time_Email_sent_Category   68353 non-null  int64  \n",
            " 8   Word_Count                 68353 non-null  int64  \n",
            " 9   Total_Links                66152 non-null  float64\n",
            " 10  Total_Images               66676 non-null  float64\n",
            " 11  Email_Status               68353 non-null  int64  \n",
            "dtypes: float64(4), int64(6), object(2)\n",
            "memory usage: 6.3+ MB\n"
          ]
        }
      ]
    },
    {
      "cell_type": "markdown",
      "metadata": {
        "id": "YSciyJGe2sSt"
      },
      "source": [
        "##Data Summary:\n",
        "Our email campaign dataset have 68353 observations and 12 features. Clearly Email_Status is our target variable.\n",
        "\n",
        "Our features:\n",
        "* Email Id - It contains the email id's of the customers/individuals\n",
        "* Email Type - There are two categories 1 and 2. We can think of them as marketing emails or important updates, notices like email regarding the businesses.\n",
        "* Subject Hotness Score - It is the email's subject's score on the basis of how good and effective the content is\n",
        "* Email Source - It represents the source of the email like sales and marketing or important admin mails related to the product\n",
        "* Email Campaign Type - The campaign type\n",
        "* Total Past Coomunications - This column contains the total previous mails from the same source, the number of communications had\n",
        "* Customer Location - Contains demographical data of the customer, the location where the customer resides\n",
        "* Time Email sent Category - It has three categories 1,2 and 3; the time of the day when the email was sent, we can think of it as morning, evening and night time slots.\n",
        "* Word Count - The number of words contained in the email\n",
        "* Total links - Number of links in the email\n",
        "* Total Images - Number of images in the email\n",
        "* Email Status - Our target variable which contains whether the mail was ignored, read, acknowledged by the reader"
      ]
    },
    {
      "cell_type": "code",
      "metadata": {
        "id": "yiPQOB3z2iFf"
      },
      "source": [
        ""
      ],
      "execution_count": null,
      "outputs": []
    }
  ]
}